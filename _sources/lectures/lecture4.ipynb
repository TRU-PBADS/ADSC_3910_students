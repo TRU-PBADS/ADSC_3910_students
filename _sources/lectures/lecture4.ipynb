{
 "cells": [
  {
   "cell_type": "markdown",
   "metadata": {},
   "source": [
    "# 4. Misconceptions in data science"
   ]
  },
  {
   "cell_type": "markdown",
   "metadata": {},
   "source": [
    "## Learning objectives\n",
    "\n",
    "- **Communicating Uncertainty**: Understand and effectively communicate the sources and impact of uncertainty in data science, using appropriate visualizations and language.\n",
    "- **Communicating Risk**: Distinguish between uncertainty and risk, and develop skills for conveying risk probabilities clearly to diverse audiences.\n",
    "- **p-Hacking Awareness**: Identify and prevent p-hacking by promoting ethical data analysis practices and recognizing its impact on the credibility of research."
   ]
  },
  {
   "cell_type": "markdown",
   "metadata": {},
   "source": [
    "## Slide\n",
    "\n",
    "<iframe src=\"https://docs.google.com/presentation/d/e/2PACX-1vRcXCMLL3xV2QlvGcSbkTJxC6_t_NCNljp5Kay79hTQCFCGiw0I9fqv84PyvenJHeqGzAGfG7swPOc7/embed?start=false&loop=false&delayms=60000\" frameborder=\"0\" width=\"960\" height=\"569\" allowfullscreen=\"true\" mozallowfullscreen=\"true\" webkitallowfullscreen=\"true\"></iframe>"
   ]
  },
  {
   "cell_type": "markdown",
   "metadata": {},
   "source": [
    "\n",
    "```{note}\n",
    "Download a PDF version [here](https://docs.google.com/presentation/d/1TQUMBaTH1ZNtUwVuKovYIowEohKYOhARDVZU9Q6NKIc/export/pdf)\n",
    "```"
   ]
  }
 ],
 "metadata": {
  "language_info": {
   "name": "python"
  }
 },
 "nbformat": 4,
 "nbformat_minor": 2
}
