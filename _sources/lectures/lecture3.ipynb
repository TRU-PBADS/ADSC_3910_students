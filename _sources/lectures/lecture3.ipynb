{
 "cells": [
  {
   "cell_type": "markdown",
   "metadata": {},
   "source": [
    "# 3. Technical writing for data scientists"
   ]
  },
  {
   "cell_type": "markdown",
   "metadata": {},
   "source": [
    "By the end of this lecture, you should be able to:\n",
    "\n",
    "- Understand why writing is an important task in data science\n",
    "- How to tailor your writing to different types of audience\n",
    "- How to write for non-technical audience"
   ]
  },
  {
   "cell_type": "markdown",
   "metadata": {},
   "source": [
    "## Slide\n",
    "\n",
    "<iframe src=\"https://docs.google.com/presentation/d/1u7R4DVjfGpJdztXV9fOUDiMw-RKryxx-ocA5_5rJEk8/embed?start=false&loop=false&delayms=60000\" frameborder=\"0\" width=\"960\" height=\"569\" allowfullscreen=\"true\" mozallowfullscreen=\"true\" webkitallowfullscreen=\"true\"></iframe>"
   ]
  },
  {
   "cell_type": "markdown",
   "metadata": {},
   "source": [
    "\n",
    "```{note}\n",
    "Download a PDF version [here](https://docs.google.com/presentation/d/1u7R4DVjfGpJdztXV9fOUDiMw-RKryxx-ocA5_5rJEk8/export/pdf)\n",
    "```"
   ]
  }
 ],
 "metadata": {
  "language_info": {
   "name": "python"
  }
 },
 "nbformat": 4,
 "nbformat_minor": 2
}
