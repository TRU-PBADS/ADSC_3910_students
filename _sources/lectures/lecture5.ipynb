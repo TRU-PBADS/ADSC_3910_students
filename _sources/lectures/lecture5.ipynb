{
 "cells": [
  {
   "cell_type": "markdown",
   "metadata": {},
   "source": [
    "# 5. Convert notebooks to scripts"
   ]
  },
  {
   "cell_type": "markdown",
   "metadata": {},
   "source": [
    "A machine learning project requires experimentation where hypotheses are tested with agile tools like Jupyter Notebook using real datasets. Once the model is ready for production, the model code should be placed in a production code repository. In some cases, the model code must be converted to Python scripts to be placed in the production code repository. This tutorial covers a recommended approach on how to export experimentation code to Python scripts.\n",
    "\n",
    "In this tutorial, you learn how to:\n",
    "- Clean nonessential code\n",
    "- Refactor Jupyter Notebook code into functions\n",
    "- Create Python scripts for related tasks"
   ]
  },
  {
   "cell_type": "markdown",
   "metadata": {},
   "source": [
    "**First, accept your adsc3910_worksheet5 on Moodle**"
   ]
  },
  {
   "cell_type": "markdown",
   "metadata": {},
   "source": [
    "## 1. Remove all nonessential code\n",
    "\n",
    "Some code written during experimentation is only intended for exploratory purposes. Therefore, the first step to convert experimental code into production code is to remove this nonessential code. Removing nonessential code will also make the code more maintainable. In this section, you'll remove code from the `experimentation/Diabetes Ridge Regression Training.ipynb` notebook."
   ]
  },
  {
   "cell_type": "markdown",
   "metadata": {},
   "source": [
    "## 2. Refactor code into functions\n",
    "Second, the Jupyter code needs to be refactored into functions. Refactoring code into functions makes unit testing easier and makes the code more maintainable. In this section, you'll refactor:\n",
    "- The Diabetes Ridge Regression Training notebook(`experimentation/Diabetes Ridge Regression Training.ipynb`)\n",
    "- The Diabetes Ridge Regression Scoring notebook(`experimentation/Diabetes Ridge Regression Scoring.ipynb`)"
   ]
  },
  {
   "cell_type": "markdown",
   "metadata": {},
   "source": [
    "### Refactor Diabetes Ridge Regression Training notebook into functions\n",
    "\n",
    "In experimentation/Diabetes Ridge Regression Training.ipynb, complete the following steps:\n",
    "- Create a function called `split_data` to split the data frame into test and train data. The function should take the dataframe df as a parameter, and return a dictionary containing the keys train and test.\n",
    "  \n",
    "    Move the code under the Split Data into Training and Validation Sets heading into the split_data function and modify it to return the data object.\n",
    "- Create a function called `train_model`, which takes the parameters data and args and returns a trained model.\n",
    "  \n",
    "    Move the code under the heading Training Model on Training Set into the train_model function and modify it to return the reg_model object. Remove the args dictionary, the values will come from the args parameter.\n",
    "- Create a function called `get_model_metrics`, which takes parameters reg_model and data, and evaluates the model then returns a dictionary of metrics for the trained model.\n",
    "  \n",
    "    Move the code under the Validate Model on Validation Set heading into the get_model_metrics function and modify it to return the metrics object."
   ]
  },
  {
   "cell_type": "markdown",
   "metadata": {},
   "source": [
    "Still in experimentation/Diabetes Ridge Regression Training.ipynb, complete the following steps:\n",
    "1. Create a new function called `main`, which takes no parameters and returns nothing.\n",
    "2. Move the code under the \"Load Data\" heading into the main function.\n",
    "3. Add invocations for the newly written functions into the main function:\n",
    "```python\n",
    "# Split Data into Training and Validation Sets\n",
    "data = split_data(df)\n",
    "# Train Model on Training Set\n",
    "args = {\n",
    "    \"alpha\": 0.5\n",
    "}\n",
    "reg = train_model(data, args)\n",
    "# Validate Model on Validation Set\n",
    "metrics = get_model_metrics(reg, data)\n",
    "```\n",
    "4. Move the code under the \"Save Model\" heading into the main function."
   ]
  },
  {
   "cell_type": "markdown",
   "metadata": {},
   "source": [
    "At this stage, there should be no code remaining in the notebook that isn't in a function, other than import statements in the first cell.\n",
    "\n",
    "Add a statement that calls the main function.\n",
    "\n",
    "```python\n",
    "main()\n",
    "```"
   ]
  },
  {
   "cell_type": "markdown",
   "metadata": {},
   "source": [
    "After refactoring, `experimentation/Diabetes Ridge Regression Training.ipynb` should look like the following code without the markdown:"
   ]
  },
  {
   "cell_type": "markdown",
   "metadata": {},
   "source": [
    "```python\n",
    "from sklearn.datasets import load_diabetes\n",
    "from sklearn.linear_model import Ridge\n",
    "from sklearn.metrics import mean_squared_error\n",
    "from sklearn.model_selection import train_test_split\n",
    "import pandas as pd\n",
    "import joblib\n",
    "\n",
    "\n",
    "# Split the dataframe into test and train data\n",
    "def split_data(df):\n",
    "    # YOUR CODE HERE\n",
    "    return data\n",
    "\n",
    "\n",
    "# Train the model, return the model\n",
    "def train_model(data, args):\n",
    "    # YOUR CODE HERE\n",
    "    return reg_model\n",
    "\n",
    "\n",
    "# Evaluate the metrics for the model\n",
    "def get_model_metrics(reg_model, data):\n",
    "    # YOURE CODE HERE\n",
    "    return metrics\n",
    "\n",
    "\n",
    "def main():\n",
    "    # YOUR CODE HERE\n",
    "\n",
    "main()\n",
    "```"
   ]
  },
  {
   "cell_type": "markdown",
   "metadata": {},
   "source": [
    "### Refactor Diabetes Ridge Regression Scoring notebook into functions\n",
    "\n",
    "In `experimentation/Diabetes Ridge Regression Scoring.ipynb`, complete the following steps:\n",
    "\n",
    "1. Create a new function called `init`, which takes no parameters and return nothing.\n",
    "2. Copy the code under the \"Load Model\" heading into the init function.\n",
    "3. Once the init function has been created, replace all the code under the heading \"Load Model\" with a single call to init as follows:\n",
    "```python\n",
    "init()\n",
    "```"
   ]
  },
  {
   "cell_type": "markdown",
   "metadata": {},
   "source": [
    "In `experimentation/Diabetes Ridge Regression Scoring.ipynb`, complete the following steps:\n",
    "1. Create a new function called `run`, which takes `raw_data` and `request_headers` as parameters and returns a dictionary of results\n",
    "2. Copy the code under the \"Prepare Data\" and \"Score Data\" headings into the run function.\n",
    "The `run` function should look like the following code (Remember to remove the statements that set the variables raw_data and request_headers, which will be used later when the run function is called):\n",
    "\n",
    "```python\n",
    "def run(raw_data, request_headers):\n",
    "    # YOUR CODE HERE\n",
    "    return {\"result\": result.tolist()}\n",
    "```"
   ]
  },
  {
   "cell_type": "markdown",
   "metadata": {},
   "source": [
    "Once the run function has been created, replace all the code under the \"Prepare Data\" and \"Score Data\" headings with the following code:\n",
    "\n",
    "```python\n",
    "raw_data = '{\"data\":[[1,2,3,4,5,6,7,8,9,10],[10,9,8,7,6,5,4,3,2,1]]}'\n",
    "request_header = {}\n",
    "prediction = run(raw_data, request_header)\n",
    "print(\"Test result: \", prediction)\n",
    "```\n",
    "\n",
    "The previous code sets variables `raw_data` and `request_header`, calls the `run` function with raw_data and request_header, and prints the predictions.\n",
    "\n",
    "After refactoring, `experimentation/Diabetes Ridge Regression Scoring.ipynb` should look like the following code without the markdown:\n",
    "\n",
    "```python\n",
    "import json\n",
    "import numpy\n",
    "import os\n",
    "import joblib\n",
    "\n",
    "def init():\n",
    "    # YOUR CODE HERE\n",
    "\n",
    "def run(raw_data, request_headers):\n",
    "    # YOUR CODE HERE\n",
    "\n",
    "    return {\"result\": result.tolist()}\n",
    "\n",
    "init()\n",
    "test_row = '{\"data\":[[1,2,3,4,5,6,7,8,9,10],[10,9,8,7,6,5,4,3,2,1]]}'\n",
    "request_header = {}\n",
    "prediction = run(test_row, {})\n",
    "print(\"Test result: \", prediction)\n",
    "```"
   ]
  },
  {
   "cell_type": "markdown",
   "metadata": {},
   "source": [
    "## Combine related functions in Python files\n",
    "\n",
    "Third, related functions need to be merged into Python files to better help code reuse. In this section, you'll be creating Python files for the following notebooks:\n",
    "- The Diabetes Ridge Regression Training notebook(`experimentation/Diabetes Ridge Regression Training.ipynb`)\n",
    "- The Diabetes Ridge Regression Scoring notebook(`experimentation/Diabetes Ridge Regression Scoring.ipynb`)"
   ]
  },
  {
   "cell_type": "markdown",
   "metadata": {},
   "source": [
    "### Create Python file for the Diabetes Ridge Regression Training notebook"
   ]
  },
  {
   "cell_type": "markdown",
   "metadata": {},
   "source": [
    "In visual studio code, right click on the .ipynb file and choose **Import Notebook to Script**. This will create a python script from your notebook.\n",
    "\n",
    "Save the script as `train.py`"
   ]
  },
  {
   "cell_type": "markdown",
   "metadata": {},
   "source": [
    "Once the notebook has been converted to `train.py`, remove any unwanted comments. Replace the call to `main()` at the end of the file with a conditional invocation like the following code:\n",
    "\n",
    "\n",
    "```python\n",
    "if __name__ == '__main__':\n",
    "    main()\n",
    "```"
   ]
  },
  {
   "cell_type": "markdown",
   "metadata": {},
   "source": [
    "`train.py` can now be invoked from a terminal by running `python train.py`. The functions from train.py can also be called from other files."
   ]
  },
  {
   "cell_type": "markdown",
   "metadata": {},
   "source": [
    "### Create Python file for the Diabetes Ridge Regression Scoring notebook"
   ]
  },
  {
   "cell_type": "markdown",
   "metadata": {},
   "source": [
    "In visual studio code, right click on the .ipynb file and choose **Import Notebook to Script**. This will create a python script from your notebook.\n",
    "\n",
    "Save the script as `score.py`"
   ]
  },
  {
   "cell_type": "markdown",
   "metadata": {},
   "source": [
    "Once the notebook has been converted to `score.py`, remove any unwanted comments."
   ]
  },
  {
   "cell_type": "markdown",
   "metadata": {},
   "source": [
    "The model variable needs to be global so that it's visible throughout the script. Add the following statement at the beginning of the `init` function:\n",
    "\n",
    "```python\n",
    "global model\n",
    "```"
   ]
  },
  {
   "cell_type": "markdown",
   "metadata": {},
   "source": [
    "## Run the script in the terminal"
   ]
  },
  {
   "cell_type": "markdown",
   "metadata": {},
   "source": [
    "1. Open a terminal and navigate to the `adsc3910_worksheet5/experimentation` folder\n",
    "2. Activate the adsc_3610 environment by typing `conda activate adsc_3610`\n",
    "3. Run the `train.py` script by typing `python train.py`. After running the script, should now see a .pkl file being generated. That is your trained model.\n",
    "4. Run the `score.py` script by typing `python score.py`. After running the script, you should see the result of the prediction and mse values"
   ]
  }
 ],
 "metadata": {
  "kernelspec": {
   "display_name": "adsc_3610",
   "language": "python",
   "name": "python3"
  },
  "language_info": {
   "codemirror_mode": {
    "name": "ipython",
    "version": 3
   },
   "file_extension": ".py",
   "mimetype": "text/x-python",
   "name": "python",
   "nbconvert_exporter": "python",
   "pygments_lexer": "ipython3",
   "version": "3.12.5"
  }
 },
 "nbformat": 4,
 "nbformat_minor": 2
}
