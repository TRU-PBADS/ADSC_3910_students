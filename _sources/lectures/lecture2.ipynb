{
 "cells": [
  {
   "cell_type": "markdown",
   "metadata": {},
   "source": [
    "# Setting up reproducible environment"
   ]
  },
  {
   "cell_type": "markdown",
   "metadata": {},
   "source": [
    "By the end of this lecture, you should be able to:\n",
    "\n",
    "- Understand the benefits of using environment management tool such `conda`\n",
    "- Set up a simple reproducible environment using `conda` and `env.yaml` files\n",
    "- Set up a sample project structure using the [`cookiecutter` data science template](https://cookiecutter-data-science.drivendata.org)"
   ]
  },
  {
   "cell_type": "markdown",
   "metadata": {},
   "source": [
    "## Slide\n",
    "\n",
    "No slide this week. We will use demo instead.\n",
    "\n",
    "I recommend you to check out the readings below for more details and explanation"
   ]
  },
  {
   "cell_type": "markdown",
   "metadata": {},
   "source": [
    "## Supplemental materials\n"
   ]
  },
  {
   "cell_type": "markdown",
   "metadata": {},
   "source": [
    "### Readings\n",
    "\n",
    "- [Filenames and data science project organization, Integrated development environments](https://ubc-dsci.github.io/reproducible-and-trustworthy-workflows-for-data-science/materials/lectures/03-filenames-project-organization.html)\n",
    "- [Virtual environments](https://ubc-dsci.github.io/reproducible-and-trustworthy-workflows-for-data-science/materials/lectures/04-virtual-environments.html)\n",
    "- [Cookiecutter data science project template](https://cookiecutter-data-science.drivendata.org)"
   ]
  }
 ],
 "metadata": {
  "language_info": {
   "name": "python"
  }
 },
 "nbformat": 4,
 "nbformat_minor": 2
}
