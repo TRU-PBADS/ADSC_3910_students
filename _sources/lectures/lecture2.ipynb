{
 "cells": [
  {
   "cell_type": "markdown",
   "metadata": {},
   "source": [
    "# 2. Setting up reproducible environment"
   ]
  },
  {
   "cell_type": "markdown",
   "metadata": {},
   "source": [
    "By the end of this lecture, you should be able to:\n",
    "\n",
    "- Understand the benefits of using environment management tool such `conda`\n",
    "- Set up a simple reproducible environment using `conda` and `env.yaml` files\n",
    "- Set up a sample project structure using the [`cookiecutter` data science template](https://cookiecutter-data-science.drivendata.org)"
   ]
  },
  {
   "cell_type": "markdown",
   "metadata": {},
   "source": [
    "## 1. Importance of Managing Environment\n",
    "\n",
    "Managing environments is crucial in data science for several reasons:\n",
    "\n",
    "- **Dependency Management**: Different projects may require different versions of libraries. Without managing environments, you might face conflicts between these dependencies.\n",
    "- **Reproducibility**: Ensuring that your code runs the same way on different machines or at different times is essential for reproducibility. An unmanaged environment can lead to inconsistencies.\n",
    "- **Isolation**: Isolating project environments prevents changes in one project from affecting another.\n",
    "\n",
    "### Examples of Issues Without Environment Management\n",
    "- **Version Conflicts**: Installing a new version of a library for one project might break another project that relies on an older version.\n",
    "- **Inconsistent Results**: Running the same code on different machines might yield different results due to different library versions.\n",
    "- **Difficult Collaboration**: Sharing code without a managed environment can lead to \"it works on my machine\" problems.\n",
    "\n",
    "## 2. Introduction to Conda\n",
    "\n",
    "Conda is an open-source package management and environment management system. It is useful because:\n",
    "- It allows you to create isolated environments with specific versions of libraries and dependencies.\n",
    "- It supports multiple programming languages, including Python and R.\n",
    "- It simplifies the process of installing and managing packages.\n"
   ]
  },
  {
   "cell_type": "markdown",
   "metadata": {},
   "source": [
    "\n",
    "## 3. Creating a Conda Environment from Scratch\n",
    "\n",
    "To create a new conda environment and install packages, follow these steps:\n",
    "\n",
    "```bash\n",
    "# Create a new environment named 'myenv' with Python 3.8\n",
    "conda create --name myenv python=3.8\n",
    "\n",
    "# Activate the environment\n",
    "conda activate myenv\n",
    "\n",
    "# Install packages, e.g., numpy and pandas\n",
    "conda install numpy pandas\n",
    "```"
   ]
  },
  {
   "cell_type": "markdown",
   "metadata": {},
   "source": [
    "\n",
    "\n",
    "## 4. Creating a Conda Environment from a YAML File\n",
    "\n",
    "You can create a conda environment from a YAML file, which specifies the environment configuration:\n",
    "\n"
   ]
  },
  {
   "cell_type": "code",
   "execution_count": null,
   "metadata": {
    "vscode": {
     "languageId": "yaml"
    }
   },
   "outputs": [],
   "source": [
    "# environment.yml\n",
    "name: myenv\n",
    "dependencies:\n",
    "  - python=3.8\n",
    "  - numpy\n",
    "  - pandas"
   ]
  },
  {
   "cell_type": "markdown",
   "metadata": {},
   "source": [
    "\n",
    "\n",
    "To create the environment from the YAML file:\n",
    "\n"
   ]
  },
  {
   "cell_type": "code",
   "execution_count": null,
   "metadata": {
    "vscode": {
     "languageId": "bash"
    }
   },
   "outputs": [],
   "source": [
    "conda env create -f environment.yml"
   ]
  },
  {
   "cell_type": "markdown",
   "metadata": {},
   "source": [
    "\n",
    "\n",
    "## 5. Managing Conda Environments\n",
    "\n",
    "### Updating a Conda Environment\n",
    "\n",
    "You may need to update your environment for a variety of reasons. For example, it may be the case that:\n",
    "\n",
    "- one of your core dependencies just released a new version (dependency version number update).\n",
    "- you need an additional package for data analysis (add a new dependency).\n",
    "- you have found a better package and no longer need the older package (add new dependency and remove old dependency).\n",
    "\n",
    "If any of these occur, all you need to do is update the contents of your `environment.yml` file accordingly and then run the following command:\n",
    "\n"
   ]
  },
  {
   "cell_type": "code",
   "execution_count": null,
   "metadata": {
    "vscode": {
     "languageId": "bash"
    }
   },
   "outputs": [],
   "source": [
    "conda env update --file environment.yml --prune"
   ]
  },
  {
   "cell_type": "markdown",
   "metadata": {},
   "source": [
    "\n",
    "\n",
    "### Deleting an Installed Package\n",
    "\n",
    "To remove a specific package from the environment:\n",
    "\n"
   ]
  },
  {
   "cell_type": "code",
   "execution_count": null,
   "metadata": {
    "vscode": {
     "languageId": "bash"
    }
   },
   "outputs": [],
   "source": [
    "# Remove the 'numpy' package from the environment\n",
    "conda remove --name myenv numpy"
   ]
  },
  {
   "cell_type": "markdown",
   "metadata": {},
   "source": [
    "\n",
    "\n",
    "### Exporting the Environment to a YAML File\n",
    "\n",
    "To export the current environment configuration to a YAML file:\n",
    "\n"
   ]
  },
  {
   "cell_type": "code",
   "execution_count": null,
   "metadata": {
    "vscode": {
     "languageId": "bash"
    }
   },
   "outputs": [],
   "source": [
    "# Export your active environment to 'environment.yml'\n",
    "conda env export > environment.yml"
   ]
  },
  {
   "cell_type": "markdown",
   "metadata": {},
   "source": [
    "If you want to make your environment file work across platforms, you can use the conda env export `--from-history` flag. This will only include packages that you’ve explicitly asked for, as opposed to including every package in your environment."
   ]
  },
  {
   "cell_type": "code",
   "execution_count": null,
   "metadata": {
    "vscode": {
     "languageId": "bash"
    }
   },
   "outputs": [],
   "source": [
    "conda env export --from-history -f environment.yml"
   ]
  },
  {
   "cell_type": "markdown",
   "metadata": {},
   "source": [
    "\n",
    "\n",
    "### Deleting a Conda Environment\n",
    "\n",
    "To delete an entire conda environment:\n",
    "\n"
   ]
  },
  {
   "cell_type": "code",
   "execution_count": null,
   "metadata": {
    "vscode": {
     "languageId": "bash"
    }
   },
   "outputs": [],
   "source": [
    "# Remove the 'myenv' environment\n",
    "conda env remove --name myenv"
   ]
  },
  {
   "cell_type": "markdown",
   "metadata": {},
   "source": [
    "\n",
    "\n",
    "By managing your environments with conda, you can ensure that your data science projects are reproducible, isolated, and free from dependency conflicts.\n",
    "```"
   ]
  },
  {
   "cell_type": "markdown",
   "metadata": {},
   "source": [
    "## Slide\n",
    "\n",
    "No slide this week. We will use demo instead.\n",
    "\n",
    "I recommend you to check out the readings below for more details and explanation"
   ]
  },
  {
   "cell_type": "markdown",
   "metadata": {},
   "source": [
    "## Supplemental materials\n"
   ]
  },
  {
   "cell_type": "markdown",
   "metadata": {},
   "source": [
    "### Readings\n",
    "\n",
    "- [Filenames and data science project organization, Integrated development environments](https://ubc-dsci.github.io/reproducible-and-trustworthy-workflows-for-data-science/materials/lectures/03-filenames-project-organization.html)\n",
    "- [Virtual environments](https://ubc-dsci.github.io/reproducible-and-trustworthy-workflows-for-data-science/materials/lectures/04-virtual-environments.html)\n",
    "- [Cookiecutter data science project template](https://cookiecutter-data-science.drivendata.org)"
   ]
  }
 ],
 "metadata": {
  "kernelspec": {
   "display_name": "Python 3 (ipykernel)",
   "language": "python",
   "name": "python3"
  },
  "language_info": {
   "codemirror_mode": {
    "name": "ipython",
    "version": 3
   },
   "file_extension": ".py",
   "mimetype": "text/x-python",
   "name": "python",
   "nbconvert_exporter": "python",
   "pygments_lexer": "ipython3",
   "version": "3.12.2"
  }
 },
 "nbformat": 4,
 "nbformat_minor": 4
}
